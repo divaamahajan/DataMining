{
  "nbformat": 4,
  "nbformat_minor": 0,
  "metadata": {
    "colab": {
      "provenance": [],
      "authorship_tag": "ABX9TyM3VgvZc52pobSe+sw5yL65",
      "include_colab_link": true
    },
    "kernelspec": {
      "name": "python3",
      "display_name": "Python 3"
    },
    "language_info": {
      "name": "python"
    }
  },
  "cells": [
    {
      "cell_type": "markdown",
      "metadata": {
        "id": "view-in-github",
        "colab_type": "text"
      },
      "source": [
        "<a href=\"https://colab.research.google.com/github/divaamahajan/DataMining/blob/main/Sampling_dataset_of_KitsuneNetworkAttackDataset.ipynb\" target=\"_parent\"><img src=\"https://colab.research.google.com/assets/colab-badge.svg\" alt=\"Open In Colab\"/></a>"
      ]
    },
    {
      "cell_type": "markdown",
      "source": [
        "#Installing directories"
      ],
      "metadata": {
        "id": "NfcQTvRpolVS"
      }
    },
    {
      "cell_type": "code",
      "source": [
        "!pip install -q kaggle\n",
        "from google.colab import files\n",
        "import os\n",
        "\n",
        "files.upload() # Upload the kaggle.json file\n",
        "!mkdir ~/.kaggle\n",
        "!cp kaggle.json ~/.kaggle/\n",
        "!chmod 600 ~/.kaggle/kaggle.json\n",
        "os.environ['KAGGLE_CONFIG_DIR'] = '/root/.kaggle'\n",
        "\n",
        "# Download the dataset using the Kaggle API\n",
        "!kaggle datasets download -d ymirsky/network-attack-dataset-kitsune -p /content --unzip\n"
      ],
      "metadata": {
        "id": "zU8Mgle_d3g0",
        "outputId": "95d34fbe-71de-4d94-e1ba-112083e56f36",
        "colab": {
          "base_uri": "https://localhost:8080/",
          "height": 125
        }
      },
      "execution_count": null,
      "outputs": [
        {
          "data": {
            "text/html": [
              "\n",
              "     <input type=\"file\" id=\"files-671058ca-5c8b-4381-868f-11888b2497da\" name=\"files[]\" multiple disabled\n",
              "        style=\"border:none\" />\n",
              "     <output id=\"result-671058ca-5c8b-4381-868f-11888b2497da\">\n",
              "      Upload widget is only available when the cell has been executed in the\n",
              "      current browser session. Please rerun this cell to enable.\n",
              "      </output>\n",
              "      <script>// Copyright 2017 Google LLC\n",
              "//\n",
              "// Licensed under the Apache License, Version 2.0 (the \"License\");\n",
              "// you may not use this file except in compliance with the License.\n",
              "// You may obtain a copy of the License at\n",
              "//\n",
              "//      http://www.apache.org/licenses/LICENSE-2.0\n",
              "//\n",
              "// Unless required by applicable law or agreed to in writing, software\n",
              "// distributed under the License is distributed on an \"AS IS\" BASIS,\n",
              "// WITHOUT WARRANTIES OR CONDITIONS OF ANY KIND, either express or implied.\n",
              "// See the License for the specific language governing permissions and\n",
              "// limitations under the License.\n",
              "\n",
              "/**\n",
              " * @fileoverview Helpers for google.colab Python module.\n",
              " */\n",
              "(function(scope) {\n",
              "function span(text, styleAttributes = {}) {\n",
              "  const element = document.createElement('span');\n",
              "  element.textContent = text;\n",
              "  for (const key of Object.keys(styleAttributes)) {\n",
              "    element.style[key] = styleAttributes[key];\n",
              "  }\n",
              "  return element;\n",
              "}\n",
              "\n",
              "// Max number of bytes which will be uploaded at a time.\n",
              "const MAX_PAYLOAD_SIZE = 100 * 1024;\n",
              "\n",
              "function _uploadFiles(inputId, outputId) {\n",
              "  const steps = uploadFilesStep(inputId, outputId);\n",
              "  const outputElement = document.getElementById(outputId);\n",
              "  // Cache steps on the outputElement to make it available for the next call\n",
              "  // to uploadFilesContinue from Python.\n",
              "  outputElement.steps = steps;\n",
              "\n",
              "  return _uploadFilesContinue(outputId);\n",
              "}\n",
              "\n",
              "// This is roughly an async generator (not supported in the browser yet),\n",
              "// where there are multiple asynchronous steps and the Python side is going\n",
              "// to poll for completion of each step.\n",
              "// This uses a Promise to block the python side on completion of each step,\n",
              "// then passes the result of the previous step as the input to the next step.\n",
              "function _uploadFilesContinue(outputId) {\n",
              "  const outputElement = document.getElementById(outputId);\n",
              "  const steps = outputElement.steps;\n",
              "\n",
              "  const next = steps.next(outputElement.lastPromiseValue);\n",
              "  return Promise.resolve(next.value.promise).then((value) => {\n",
              "    // Cache the last promise value to make it available to the next\n",
              "    // step of the generator.\n",
              "    outputElement.lastPromiseValue = value;\n",
              "    return next.value.response;\n",
              "  });\n",
              "}\n",
              "\n",
              "/**\n",
              " * Generator function which is called between each async step of the upload\n",
              " * process.\n",
              " * @param {string} inputId Element ID of the input file picker element.\n",
              " * @param {string} outputId Element ID of the output display.\n",
              " * @return {!Iterable<!Object>} Iterable of next steps.\n",
              " */\n",
              "function* uploadFilesStep(inputId, outputId) {\n",
              "  const inputElement = document.getElementById(inputId);\n",
              "  inputElement.disabled = false;\n",
              "\n",
              "  const outputElement = document.getElementById(outputId);\n",
              "  outputElement.innerHTML = '';\n",
              "\n",
              "  const pickedPromise = new Promise((resolve) => {\n",
              "    inputElement.addEventListener('change', (e) => {\n",
              "      resolve(e.target.files);\n",
              "    });\n",
              "  });\n",
              "\n",
              "  const cancel = document.createElement('button');\n",
              "  inputElement.parentElement.appendChild(cancel);\n",
              "  cancel.textContent = 'Cancel upload';\n",
              "  const cancelPromise = new Promise((resolve) => {\n",
              "    cancel.onclick = () => {\n",
              "      resolve(null);\n",
              "    };\n",
              "  });\n",
              "\n",
              "  // Wait for the user to pick the files.\n",
              "  const files = yield {\n",
              "    promise: Promise.race([pickedPromise, cancelPromise]),\n",
              "    response: {\n",
              "      action: 'starting',\n",
              "    }\n",
              "  };\n",
              "\n",
              "  cancel.remove();\n",
              "\n",
              "  // Disable the input element since further picks are not allowed.\n",
              "  inputElement.disabled = true;\n",
              "\n",
              "  if (!files) {\n",
              "    return {\n",
              "      response: {\n",
              "        action: 'complete',\n",
              "      }\n",
              "    };\n",
              "  }\n",
              "\n",
              "  for (const file of files) {\n",
              "    const li = document.createElement('li');\n",
              "    li.append(span(file.name, {fontWeight: 'bold'}));\n",
              "    li.append(span(\n",
              "        `(${file.type || 'n/a'}) - ${file.size} bytes, ` +\n",
              "        `last modified: ${\n",
              "            file.lastModifiedDate ? file.lastModifiedDate.toLocaleDateString() :\n",
              "                                    'n/a'} - `));\n",
              "    const percent = span('0% done');\n",
              "    li.appendChild(percent);\n",
              "\n",
              "    outputElement.appendChild(li);\n",
              "\n",
              "    const fileDataPromise = new Promise((resolve) => {\n",
              "      const reader = new FileReader();\n",
              "      reader.onload = (e) => {\n",
              "        resolve(e.target.result);\n",
              "      };\n",
              "      reader.readAsArrayBuffer(file);\n",
              "    });\n",
              "    // Wait for the data to be ready.\n",
              "    let fileData = yield {\n",
              "      promise: fileDataPromise,\n",
              "      response: {\n",
              "        action: 'continue',\n",
              "      }\n",
              "    };\n",
              "\n",
              "    // Use a chunked sending to avoid message size limits. See b/62115660.\n",
              "    let position = 0;\n",
              "    do {\n",
              "      const length = Math.min(fileData.byteLength - position, MAX_PAYLOAD_SIZE);\n",
              "      const chunk = new Uint8Array(fileData, position, length);\n",
              "      position += length;\n",
              "\n",
              "      const base64 = btoa(String.fromCharCode.apply(null, chunk));\n",
              "      yield {\n",
              "        response: {\n",
              "          action: 'append',\n",
              "          file: file.name,\n",
              "          data: base64,\n",
              "        },\n",
              "      };\n",
              "\n",
              "      let percentDone = fileData.byteLength === 0 ?\n",
              "          100 :\n",
              "          Math.round((position / fileData.byteLength) * 100);\n",
              "      percent.textContent = `${percentDone}% done`;\n",
              "\n",
              "    } while (position < fileData.byteLength);\n",
              "  }\n",
              "\n",
              "  // All done.\n",
              "  yield {\n",
              "    response: {\n",
              "      action: 'complete',\n",
              "    }\n",
              "  };\n",
              "}\n",
              "\n",
              "scope.google = scope.google || {};\n",
              "scope.google.colab = scope.google.colab || {};\n",
              "scope.google.colab._files = {\n",
              "  _uploadFiles,\n",
              "  _uploadFilesContinue,\n",
              "};\n",
              "})(self);\n",
              "</script> "
            ],
            "text/plain": [
              "<IPython.core.display.HTML object>"
            ]
          },
          "metadata": {},
          "output_type": "display_data"
        },
        {
          "metadata": {
            "tags": null
          },
          "name": "stdout",
          "output_type": "stream",
          "text": [
            "Saving kaggle.json to kaggle.json\n",
            "Downloading network-attack-dataset-kitsune.zip to /content\n",
            "100% 18.1G/18.1G [02:52<00:00, 73.7MB/s]\n",
            "100% 18.1G/18.1G [02:52<00:00, 113MB/s] \n"
          ]
        }
      ]
    },
    {
      "cell_type": "code",
      "source": [
        "!ls /content\n"
      ],
      "metadata": {
        "id": "ikxZEZnCsmNM",
        "outputId": "3a78fb06-5016-4e3a-a5a5-4549f8ab99da",
        "colab": {
          "base_uri": "https://localhost:8080/"
        }
      },
      "execution_count": null,
      "outputs": [
        {
          "output_type": "stream",
          "name": "stdout",
          "text": [
            "'Active Wiretap'   kaggle.json\t   sample_data\t       'SYN DoS'\n",
            "'ARP MitM'\t  'Mirai Botnet'  'SSDP Flood'\t       'Video Injection'\n",
            " Fuzzing\t  'OS Scan'\t  'SSL Renegotiation'\n"
          ]
        }
      ]
    },
    {
      "cell_type": "markdown",
      "source": [
        "#Importing Directories"
      ],
      "metadata": {
        "id": "qzchjMSjovnh"
      }
    },
    {
      "cell_type": "code",
      "source": [
        "import pandas as pd\n",
        "import os\n",
        "import random\n",
        "from google.colab import files\n",
        "import subprocess  # for running command-line commands"
      ],
      "metadata": {
        "id": "wf9mDn3VhaMn"
      },
      "execution_count": 70,
      "outputs": []
    },
    {
      "cell_type": "markdown",
      "source": [
        "#Downloading Sampled Daatsets"
      ],
      "metadata": {
        "id": "zff_Q4e8o4aN"
      }
    },
    {
      "cell_type": "markdown",
      "source": [
        "##Equally distributed Datset"
      ],
      "metadata": {
        "id": "_XxNpo7jo7Pr"
      }
    },
    {
      "cell_type": "code",
      "source": [
        "# Define the function to sample the data and save to a new CSV file\n",
        "def sample_data(folder_name):\n",
        "    # Set the path to the folder\n",
        "    folder_path = os.path.join('/content', folder_name)\n",
        "\n",
        "    # Search for data and label files in the folder\n",
        "    data_file_path = ''\n",
        "    label_file_path = ''\n",
        "    for file_name in os.listdir(folder_path):\n",
        "        if file_name.endswith('_dataset.csv'):\n",
        "            data_file_path = os.path.join(folder_path, file_name)\n",
        "        elif file_name.endswith('_labels.csv'):\n",
        "            label_file_path = os.path.join(folder_path, file_name)\n",
        "  \n",
        "    # Load the labels into pandas dataframes\n",
        "    # get the number of rows in the CSV file using the wc command in Linux/Mac\n",
        "    num_rows = int(subprocess.check_output(['wc', '-l', label_file_path]).decode().split()[0])\n",
        "\n",
        "    # read the first 5000 rows and last 5000 rows of the CSV file\n",
        "    df1 = pd.read_csv(label_file_path, nrows=5000, header=0, index_col=0)\n",
        "    column_names = list(df1)\n",
        "    df2 = pd.read_csv(label_file_path, skiprows=num_rows-5000, nrows=5000, header=None, index_col=0)\n",
        "    # set the column names of the dataframe to the values from the header row\n",
        "    df2.columns = column_names\n",
        "    # combine the two dataframes into one\n",
        "    labels = pd.concat([df1, df2]).reset_index(drop=True)\n",
        "\n",
        "    # Get the column index of the last column\n",
        "    label_column_name = labels.columns[-1]\n",
        "\n",
        "    # Count the records with 0 and 1 in the label column\n",
        "    n_0 = labels[label_column_name].value_counts()[0]\n",
        "    n_1 = labels[label_column_name].value_counts()[1]\n",
        "    n = min(n_0, n_1, 1000)\n",
        "    print(\"0 :\", n_0)\n",
        "    print(\"1 :\", n_1)\n",
        "    if n < 1000:\n",
        "      return\n",
        "    # Load the data into pandas dataframes\n",
        "    # read the first 5000 rows and last 5000 rows of the CSV file\n",
        "    df1 = pd.read_csv(data_file_path, nrows=5000, header=None)\n",
        "    column_names = list(range(df1.shape[1]))\n",
        "    df2 = pd.read_csv(data_file_path, skiprows=num_rows-5000, nrows=5000, header=None)\n",
        "    # set the column names of the dataframe to the values from the header row\n",
        "    df1.columns = column_names\n",
        "    df2.columns = column_names\n",
        "\n",
        "    # combine the two dataframes into one\n",
        "    data = pd.concat([df1, df2]).reset_index(drop=True)\n",
        "\n",
        "    # Merge the data and labels\n",
        "    df = pd.merge(data,labels, left_index=True, right_index=True)\n",
        "    \n",
        "    # Drop any duplicate rows in the data and labels\n",
        "    df = df.drop_duplicates()\n",
        "    \n",
        "    # Get the column index of the last column\n",
        "    label_column_name = df.columns[-1]\n",
        "    print(label_column_name)\n",
        "    # Filter out records with label equal to 0 and 1\n",
        "    df_0 = df[df[label_column_name] == 0]\n",
        "    df_1 = df[df[label_column_name] == 1]\n",
        "\n",
        "    # Randomly sample 1000 records from each group\n",
        "    df_0_sampled = df_0.sample(n=1000, replace=True, random_state=42)\n",
        "    df_1_sampled = df_1.sample(n=1000, replace=True, random_state=42)\n",
        "\n",
        "    # Concatenate the two groups back together\n",
        "    df_sampled = pd.concat([df_0_sampled, df_1_sampled]).reset_index(drop=True)\n",
        "\n",
        "    # Shuffle the rows of the resulting dataframe\n",
        "    df_sampled = df_sampled.sample(frac=1, random_state=42)\n",
        "\n",
        "    # Download the resulting CSV file\n",
        "    output_filename = f'{folder_name}_sampled.csv'\n",
        "    df_sampled.to_csv(output_filename, index=False)\n",
        "    files.download(output_filename)\n",
        "\n",
        "# Call the function for each folder\n",
        "folders = ['ARP MitM' , 'SSDP Flood', 'Video Injection', 'Active Wiretap', 'Fuzzing']\n",
        "for folder in folders:\n",
        "  print(folder, \"==>\")\n",
        "  sample_data(folder)"
      ],
      "metadata": {
        "id": "3gPFDN48kvNM",
        "colab": {
          "base_uri": "https://localhost:8080/",
          "height": 86
        },
        "outputId": "06b306f4-d411-4852-e52d-3185c9a715f2"
      },
      "execution_count": 69,
      "outputs": [
        {
          "output_type": "stream",
          "name": "stdout",
          "text": [
            "SSDP Flood ==>\n",
            "0 : 5018\n",
            "1 : 4982\n",
            "x\n"
          ]
        },
        {
          "output_type": "display_data",
          "data": {
            "text/plain": [
              "<IPython.core.display.Javascript object>"
            ],
            "application/javascript": [
              "\n",
              "    async function download(id, filename, size) {\n",
              "      if (!google.colab.kernel.accessAllowed) {\n",
              "        return;\n",
              "      }\n",
              "      const div = document.createElement('div');\n",
              "      const label = document.createElement('label');\n",
              "      label.textContent = `Downloading \"${filename}\": `;\n",
              "      div.appendChild(label);\n",
              "      const progress = document.createElement('progress');\n",
              "      progress.max = size;\n",
              "      div.appendChild(progress);\n",
              "      document.body.appendChild(div);\n",
              "\n",
              "      const buffers = [];\n",
              "      let downloaded = 0;\n",
              "\n",
              "      const channel = await google.colab.kernel.comms.open(id);\n",
              "      // Send a message to notify the kernel that we're ready.\n",
              "      channel.send({})\n",
              "\n",
              "      for await (const message of channel.messages) {\n",
              "        // Send a message to notify the kernel that we're ready.\n",
              "        channel.send({})\n",
              "        if (message.buffers) {\n",
              "          for (const buffer of message.buffers) {\n",
              "            buffers.push(buffer);\n",
              "            downloaded += buffer.byteLength;\n",
              "            progress.value = downloaded;\n",
              "          }\n",
              "        }\n",
              "      }\n",
              "      const blob = new Blob(buffers, {type: 'application/binary'});\n",
              "      const a = document.createElement('a');\n",
              "      a.href = window.URL.createObjectURL(blob);\n",
              "      a.download = filename;\n",
              "      div.appendChild(a);\n",
              "      a.click();\n",
              "      div.remove();\n",
              "    }\n",
              "  "
            ]
          },
          "metadata": {}
        },
        {
          "output_type": "display_data",
          "data": {
            "text/plain": [
              "<IPython.core.display.Javascript object>"
            ],
            "application/javascript": [
              "download(\"download_032c905f-d91f-43a7-999b-48f16239bea6\", \"SSDP Flood_sampled.csv\", 3936323)"
            ]
          },
          "metadata": {}
        }
      ]
    },
    {
      "cell_type": "markdown",
      "source": [
        "##For skewed data"
      ],
      "metadata": {
        "id": "o7Q8CV6kgjtI"
      }
    },
    {
      "cell_type": "code",
      "source": [
        "# Define the function to sample the data and save to a new CSV file\n",
        "def sample_data(folder_name):\n",
        "    # Set the path to the folder\n",
        "    folder_path = os.path.join('/content', folder_name)\n",
        "\n",
        "    # Search for data and label files in the folder\n",
        "    data_file_path = ''\n",
        "    label_file_path = ''\n",
        "    for file_name in os.listdir(folder_path):\n",
        "        if file_name.endswith('_dataset.csv'):\n",
        "            data_file_path = os.path.join(folder_path, file_name)\n",
        "        elif file_name.endswith('_labels.csv'):\n",
        "            label_file_path = os.path.join(folder_path, file_name)\n",
        "  \n",
        "    # Load the labels into pandas dataframes\n",
        "    df = pd.read_csv(label_file_path, header=0, index_col=0)\n",
        "    skiprow_1 = (df[df['x'] == 1]).index[0]\n",
        "    labels = pd.concat([df.iloc[:5000], df.iloc[skiprow_1:(15000+skiprow_1)]]).reset_index(drop=True)\n",
        "\n",
        "    # Get the column index of the last column\n",
        "    label_column_name = labels.columns[-1]\n",
        "\n",
        "    # Count the records with 0 and 1 in the label column\n",
        "    n_0 = labels[label_column_name].value_counts()[0]\n",
        "    n_1 = labels[label_column_name].value_counts()[1]\n",
        "    n = min(n_0, n_1, 1000)\n",
        "    print(\"0 :\", n_0)\n",
        "    print(\"1 :\", n_1)\n",
        "    if n < 1000:\n",
        "      return\n",
        "    # Load the data into pandas dataframes\n",
        "    # read the first 5000 rows and last 5000 rows of the CSV file\n",
        "    df1 = pd.read_csv(data_file_path, nrows=5000, header=None)\n",
        "    column_names = list(range(df1.shape[1]))\n",
        "    df2 = pd.read_csv(data_file_path, skiprows=skiprow_1, nrows=15000, header=None)\n",
        "    # set the column names of the dataframe to the values from the header row\n",
        "    df1.columns = column_names\n",
        "    df2.columns = column_names\n",
        "\n",
        "    # combine the two dataframes into one\n",
        "    data = pd.concat([df1, df2]).reset_index(drop=True)\n",
        "\n",
        "    # Merge the data and labels\n",
        "    df = pd.merge(data,labels, left_index=True, right_index=True)\n",
        "    \n",
        "    # Drop any duplicate rows in the data and labels\n",
        "    df = df.drop_duplicates()\n",
        "    \n",
        "    # Get the column index of the last column\n",
        "    label_column_name = df.columns[-1]\n",
        "    print(label_column_name)\n",
        "    # Filter out records with label equal to 0 and 1\n",
        "    df_0 = df[df[label_column_name] == 0]\n",
        "    df_1 = df[df[label_column_name] == 1]\n",
        "\n",
        "    # Randomly sample 1000 records from each group\n",
        "    df_0_sampled = df_0.sample(n=1000, replace=True, random_state=42)\n",
        "    df_1_sampled = df_1.sample(n=1000, replace=True, random_state=42)\n",
        "\n",
        "    # Concatenate the two groups back together\n",
        "    df_sampled = pd.concat([df_0_sampled, df_1_sampled]).reset_index(drop=True)\n",
        "\n",
        "    # Shuffle the rows of the resulting dataframe\n",
        "    df_sampled = df_sampled.sample(frac=1, random_state=42)\n",
        "\n",
        "    # Download the resulting CSV file\n",
        "    output_filename = f'{folder_name}_sampled.csv'\n",
        "    df_sampled.to_csv(output_filename, index=False)\n",
        "    files.download(output_filename)\n",
        "\n",
        "# Call the function for each folder\n",
        "folders = ['OS Scan', 'SYN DoS', 'SSL Renegotiation']\n",
        "for folder in folders:\n",
        "  print(folder, \"==>\")\n",
        "  sample_data(folder)\n",
        "  "
      ],
      "metadata": {
        "colab": {
          "base_uri": "https://localhost:8080/",
          "height": 69
        },
        "id": "SWsdBh7_gh00",
        "outputId": "338b7704-59c9-4b0e-bc1a-2e5e2a1e9bc3"
      },
      "execution_count": 78,
      "outputs": [
        {
          "output_type": "stream",
          "name": "stdout",
          "text": [
            "0 : 17129\n",
            "1 : 2871\n",
            "x\n"
          ]
        },
        {
          "output_type": "display_data",
          "data": {
            "text/plain": [
              "<IPython.core.display.Javascript object>"
            ],
            "application/javascript": [
              "\n",
              "    async function download(id, filename, size) {\n",
              "      if (!google.colab.kernel.accessAllowed) {\n",
              "        return;\n",
              "      }\n",
              "      const div = document.createElement('div');\n",
              "      const label = document.createElement('label');\n",
              "      label.textContent = `Downloading \"${filename}\": `;\n",
              "      div.appendChild(label);\n",
              "      const progress = document.createElement('progress');\n",
              "      progress.max = size;\n",
              "      div.appendChild(progress);\n",
              "      document.body.appendChild(div);\n",
              "\n",
              "      const buffers = [];\n",
              "      let downloaded = 0;\n",
              "\n",
              "      const channel = await google.colab.kernel.comms.open(id);\n",
              "      // Send a message to notify the kernel that we're ready.\n",
              "      channel.send({})\n",
              "\n",
              "      for await (const message of channel.messages) {\n",
              "        // Send a message to notify the kernel that we're ready.\n",
              "        channel.send({})\n",
              "        if (message.buffers) {\n",
              "          for (const buffer of message.buffers) {\n",
              "            buffers.push(buffer);\n",
              "            downloaded += buffer.byteLength;\n",
              "            progress.value = downloaded;\n",
              "          }\n",
              "        }\n",
              "      }\n",
              "      const blob = new Blob(buffers, {type: 'application/binary'});\n",
              "      const a = document.createElement('a');\n",
              "      a.href = window.URL.createObjectURL(blob);\n",
              "      a.download = filename;\n",
              "      div.appendChild(a);\n",
              "      a.click();\n",
              "      div.remove();\n",
              "    }\n",
              "  "
            ]
          },
          "metadata": {}
        },
        {
          "output_type": "display_data",
          "data": {
            "text/plain": [
              "<IPython.core.display.Javascript object>"
            ],
            "application/javascript": [
              "download(\"download_eeee1d91-0e12-43af-8731-0dcba25e8a36\", \"SYN DoS_sampled.csv\", 4221779)"
            ]
          },
          "metadata": {}
        }
      ]
    },
    {
      "cell_type": "markdown",
      "source": [
        "##Database with missing label header and index"
      ],
      "metadata": {
        "id": "EMSVU_CIoQ3h"
      }
    },
    {
      "cell_type": "code",
      "source": [
        "# Define the function to sample the data and save to a new CSV file\n",
        "def sample_data(folder_name):\n",
        "    # Set the path to the folder\n",
        "    folder_path = os.path.join('/content', folder_name)\n",
        "\n",
        "    # Search for data and label files in the folder\n",
        "    data_file_path = ''\n",
        "    label_file_path = ''\n",
        "    for file_name in os.listdir(folder_path):\n",
        "        if file_name.endswith('_dataset.csv'):\n",
        "            data_file_path = os.path.join(folder_path, file_name)\n",
        "        elif file_name.endswith('_labels.csv'):\n",
        "            label_file_path = os.path.join(folder_path, file_name)\n",
        "  \n",
        "  \n",
        "    # get the number of rows in the CSV file using the wc command in Linux/Mac\n",
        "    num_rows = int(subprocess.check_output(['wc', '-l', label_file_path]).decode().split()[0])\n",
        "\n",
        "    # read the first 5000 rows and last 5000 rows of the CSV file\n",
        "    df1 = pd.read_csv(label_file_path, nrows=5000, header=None)\n",
        "    df1.columns = ['x']\n",
        "    df2 = pd.read_csv(label_file_path, skiprows=num_rows-5000, nrows=5000, header=None)\n",
        "    # set the column names of the dataframe to the values from the header row\n",
        "    df2.columns = ['x']\n",
        "    # combine the two dataframes into one\n",
        "    labels = pd.concat([df1, df2]).reset_index(drop=True)\n",
        "\n",
        "    # Get the column index of the last column\n",
        "    label_column_name = labels.columns[-1]\n",
        "\n",
        "    # Count the records with 0 and 1 in the label column\n",
        "    n_0 = labels[label_column_name].value_counts()[0]\n",
        "    n_1 = labels[label_column_name].value_counts()[1]\n",
        "    n = min(n_0, n_1, 1000)\n",
        "    print(\"0 :\", n_0)\n",
        "    print(\"1 :\", n_1)\n",
        "    if n < 1000:\n",
        "      return\n",
        "    # Load the data into pandas dataframes\n",
        "    # read the first 5000 rows and last 5000 rows of the CSV file\n",
        "    df1 = pd.read_csv(data_file_path, nrows=5000, header=None)\n",
        "    column_names = list(range(df1.shape[1]))\n",
        "    df2 = pd.read_csv(data_file_path, skiprows=num_rows-5000, nrows=5000, header=None)\n",
        "    # set the column names of the dataframe to the values from the header row\n",
        "    df1.columns = column_names\n",
        "    df2.columns = column_names\n",
        "\n",
        "    # combine the two dataframes into one\n",
        "    data = pd.concat([df1, df2]).reset_index(drop=True)\n",
        "\n",
        "    # Merge the data and labels\n",
        "    df = pd.merge(data,labels, left_index=True, right_index=True)\n",
        "    \n",
        "    # Drop any duplicate rows in the data and labels\n",
        "    df = df.drop_duplicates()\n",
        "    \n",
        "    # Get the column index of the last column\n",
        "    label_column_name = df.columns[-1]\n",
        "    print(label_column_name)\n",
        "    # Filter out records with label equal to 0 and 1\n",
        "    df_0 = df[df[label_column_name] == 0]\n",
        "    df_1 = df[df[label_column_name] == 1]\n",
        "\n",
        "    # Randomly sample 1000 records from each group\n",
        "    df_0_sampled = df_0.sample(n=1000, replace=True, random_state=42)\n",
        "    df_1_sampled = df_1.sample(n=1000, replace=True, random_state=42)\n",
        "\n",
        "    # Concatenate the two groups back together\n",
        "    df_sampled = pd.concat([df_0_sampled, df_1_sampled]).reset_index(drop=True)\n",
        "\n",
        "    # Shuffle the rows of the resulting dataframe\n",
        "    df_sampled = df_sampled.sample(frac=1, random_state=42)\n",
        "\n",
        "    # Download the resulting CSV file\n",
        "    output_filename = f'{folder_name}_sampled.csv'\n",
        "    df_sampled.to_csv(output_filename, index=False)\n",
        "    files.download(output_filename)\n",
        "\n",
        "# Call the function for each folder\n",
        "folders = ['Mirai Botnet']\n",
        "for folder in folders:\n",
        "  print(folder, \"==>\")\n",
        "  sample_data(folder)\n",
        "  "
      ],
      "metadata": {
        "colab": {
          "base_uri": "https://localhost:8080/",
          "height": 86
        },
        "id": "bkiQhBSfekcq",
        "outputId": "35f2dbe9-476c-485f-e006-f5969579c561"
      },
      "execution_count": 80,
      "outputs": [
        {
          "output_type": "stream",
          "name": "stdout",
          "text": [
            "Mirai Botnet ==>\n",
            "0 : 5000\n",
            "1 : 5000\n",
            "x\n"
          ]
        },
        {
          "output_type": "display_data",
          "data": {
            "text/plain": [
              "<IPython.core.display.Javascript object>"
            ],
            "application/javascript": [
              "\n",
              "    async function download(id, filename, size) {\n",
              "      if (!google.colab.kernel.accessAllowed) {\n",
              "        return;\n",
              "      }\n",
              "      const div = document.createElement('div');\n",
              "      const label = document.createElement('label');\n",
              "      label.textContent = `Downloading \"${filename}\": `;\n",
              "      div.appendChild(label);\n",
              "      const progress = document.createElement('progress');\n",
              "      progress.max = size;\n",
              "      div.appendChild(progress);\n",
              "      document.body.appendChild(div);\n",
              "\n",
              "      const buffers = [];\n",
              "      let downloaded = 0;\n",
              "\n",
              "      const channel = await google.colab.kernel.comms.open(id);\n",
              "      // Send a message to notify the kernel that we're ready.\n",
              "      channel.send({})\n",
              "\n",
              "      for await (const message of channel.messages) {\n",
              "        // Send a message to notify the kernel that we're ready.\n",
              "        channel.send({})\n",
              "        if (message.buffers) {\n",
              "          for (const buffer of message.buffers) {\n",
              "            buffers.push(buffer);\n",
              "            downloaded += buffer.byteLength;\n",
              "            progress.value = downloaded;\n",
              "          }\n",
              "        }\n",
              "      }\n",
              "      const blob = new Blob(buffers, {type: 'application/binary'});\n",
              "      const a = document.createElement('a');\n",
              "      a.href = window.URL.createObjectURL(blob);\n",
              "      a.download = filename;\n",
              "      div.appendChild(a);\n",
              "      a.click();\n",
              "      div.remove();\n",
              "    }\n",
              "  "
            ]
          },
          "metadata": {}
        },
        {
          "output_type": "display_data",
          "data": {
            "text/plain": [
              "<IPython.core.display.Javascript object>"
            ],
            "application/javascript": [
              "download(\"download_f44a6858-204a-4b7f-8b9f-2c0afe9e05be\", \"Mirai Botnet_sampled.csv\", 3465977)"
            ]
          },
          "metadata": {}
        }
      ]
    }
  ]
}